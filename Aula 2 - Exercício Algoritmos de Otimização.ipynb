{
  "nbformat": 4,
  "nbformat_minor": 0,
  "metadata": {
    "colab": {
      "name": "Aula 2 - Exercício Algoritmos de Otimização.ipynb",
      "provenance": [],
      "collapsed_sections": []
    },
    "kernelspec": {
      "name": "python3",
      "display_name": "Python 3"
    },
    "language_info": {
      "name": "python"
    }
  },
  "cells": [
    {
      "cell_type": "markdown",
      "metadata": {
        "id": "jM7t2ufqjqWv"
      },
      "source": [
        "## Algoritmos de Otimização - Transporte de Produtos\n",
        "\n"
      ]
    },
    {
      "cell_type": "code",
      "metadata": {
        "colab": {
          "base_uri": "https://localhost:8080/"
        },
        "id": "S3x36w-jjdi2",
        "outputId": "f5e16efd-cf7f-460d-f0e5-bebb27a225c4"
      },
      "source": [
        "!pip install mlrose"
      ],
      "execution_count": 1,
      "outputs": [
        {
          "output_type": "stream",
          "text": [
            "Collecting mlrose\n",
            "  Downloading mlrose-1.3.0-py3-none-any.whl (27 kB)\n",
            "Requirement already satisfied: scipy in /usr/local/lib/python3.7/dist-packages (from mlrose) (1.4.1)\n",
            "Requirement already satisfied: numpy in /usr/local/lib/python3.7/dist-packages (from mlrose) (1.19.5)\n",
            "Requirement already satisfied: sklearn in /usr/local/lib/python3.7/dist-packages (from mlrose) (0.0)\n",
            "Requirement already satisfied: scikit-learn in /usr/local/lib/python3.7/dist-packages (from sklearn->mlrose) (0.22.2.post1)\n",
            "Requirement already satisfied: joblib>=0.11 in /usr/local/lib/python3.7/dist-packages (from scikit-learn->sklearn->mlrose) (1.0.1)\n",
            "Installing collected packages: mlrose\n",
            "Successfully installed mlrose-1.3.0\n"
          ],
          "name": "stdout"
        }
      ]
    },
    {
      "cell_type": "code",
      "metadata": {
        "colab": {
          "base_uri": "https://localhost:8080/"
        },
        "id": "yhsVXvJ1j18x",
        "outputId": "966df6be-dc03-44d2-8e1f-006b93171a44"
      },
      "source": [
        "import mlrose"
      ],
      "execution_count": 2,
      "outputs": [
        {
          "output_type": "stream",
          "text": [
            "/usr/local/lib/python3.7/dist-packages/sklearn/externals/six.py:31: FutureWarning: The module is deprecated in version 0.21 and will be removed in version 0.23 since we've dropped support for Python 2.7. Please rely on the official version of six (https://pypi.org/project/six/).\n",
            "  \"(https://pypi.org/project/six/).\", FutureWarning)\n"
          ],
          "name": "stderr"
        }
      ]
    },
    {
      "cell_type": "markdown",
      "metadata": {
        "id": "kQ4eD1t6j3UW"
      },
      "source": [
        "## Representação do problema"
      ]
    },
    {
      "cell_type": "code",
      "metadata": {
        "id": "4ThP4bGkj6N4"
      },
      "source": [
        "produtos = [('Refrigerador A', 0.751, 999.90),\n",
        "            ('Celular', 0.0000899, 2911.12),\n",
        "            ('TV 55', 0.400, 4346.99),\n",
        "            ('TV 50', 0.290, 3999.90),\n",
        "            ('TV 42', 0.200, 2999.00),\n",
        "            ('Notebook A', 0.00350, 2499.90),\n",
        "            ('Ventilador', 0.496, 199.90),\n",
        "            ('Microondas A', 0.0424, 308.66),\n",
        "            ('Microondas B', 0.0544, 429.90),\n",
        "            ('Microondas C', 0.0319, 299.29),\n",
        "            ('Refrigerador B', 0.635, 849.00),\n",
        "            ('Refrigerador C', 0.870, 1199.89),\n",
        "            ('Notebook B', 0.498, 1999.90),\n",
        "            ('Notebook C', 0.527, 3999.00)]\n",
        "espaco_disponivel = 3"
      ],
      "execution_count": 3,
      "outputs": []
    },
    {
      "cell_type": "code",
      "metadata": {
        "colab": {
          "base_uri": "https://localhost:8080/"
        },
        "id": "0CIkIjPjj86h",
        "outputId": "14e5ca78-fbf7-4b2d-8a4a-ef8e35c1581c"
      },
      "source": [
        "produtos[0], produtos[0][0], produtos[0][1], produtos[0][2]"
      ],
      "execution_count": 4,
      "outputs": [
        {
          "output_type": "execute_result",
          "data": {
            "text/plain": [
              "(('Refrigerador A', 0.751, 999.9), 'Refrigerador A', 0.751, 999.9)"
            ]
          },
          "metadata": {
            "tags": []
          },
          "execution_count": 4
        }
      ]
    },
    {
      "cell_type": "code",
      "metadata": {
        "id": "BbhETcj4j94Y"
      },
      "source": [
        "def imprimir_solucao(solucao):\n",
        "  for i in range(len(solucao)):\n",
        "    if solucao[i] == 1:\n",
        "      print('%s - %s' % (produtos[i][0], produtos[i][2]))"
      ],
      "execution_count": 5,
      "outputs": []
    },
    {
      "cell_type": "code",
      "metadata": {
        "colab": {
          "base_uri": "https://localhost:8080/"
        },
        "id": "DeIjoQJ6j_Lp",
        "outputId": "1171252b-7bd9-4e76-df3c-1cc5288297d5"
      },
      "source": [
        "imprimir_solucao([0, 1, 1, 1, 0, 0, 1, 0, 1, 0, 1, 1, 0, 1])"
      ],
      "execution_count": 6,
      "outputs": [
        {
          "output_type": "stream",
          "text": [
            "Celular - 2911.12\n",
            "TV 55 - 4346.99\n",
            "TV 50 - 3999.9\n",
            "Ventilador - 199.9\n",
            "Microondas B - 429.9\n",
            "Refrigerador B - 849.0\n",
            "Refrigerador C - 1199.89\n",
            "Notebook C - 3999.0\n"
          ],
          "name": "stdout"
        }
      ]
    },
    {
      "cell_type": "code",
      "metadata": {
        "id": "hQJnL-QIkEqp"
      },
      "source": [
        "def fitness_function(solucao):\n",
        "  custo = 0\n",
        "  soma_espaco = 0\n",
        "  for i in range(len(solucao)):\n",
        "    if solucao[i] == 1:\n",
        "      custo += produtos[i][2]\n",
        "      soma_espaco += produtos[i][1]\n",
        "  if soma_espaco > espaco_disponivel:\n",
        "    custo = 1\n",
        "  return custo"
      ],
      "execution_count": 7,
      "outputs": []
    },
    {
      "cell_type": "code",
      "metadata": {
        "colab": {
          "base_uri": "https://localhost:8080/"
        },
        "id": "v_tV_-2fkF2J",
        "outputId": "b0cc8031-16d1-48da-b587-36a3ccdf184e"
      },
      "source": [
        "fitness_function([0, 1, 0, 1, 0, 0, 1, 0, 1, 0, 1, 1, 0, 1])"
      ],
      "execution_count": 8,
      "outputs": [
        {
          "output_type": "execute_result",
          "data": {
            "text/plain": [
              "13588.71"
            ]
          },
          "metadata": {
            "tags": []
          },
          "execution_count": 8
        }
      ]
    },
    {
      "cell_type": "code",
      "metadata": {
        "id": "kOp8uT1ukGtI"
      },
      "source": [
        "fitness = mlrose.CustomFitness(fitness_function)"
      ],
      "execution_count": 9,
      "outputs": []
    },
    {
      "cell_type": "code",
      "metadata": {
        "id": "Q3qFsBRgkHn6"
      },
      "source": [
        "problema = mlrose.DiscreteOpt(length = 14, fitness_fn = fitness, \n",
        "                             maximize = True, max_val = 2)"
      ],
      "execution_count": 10,
      "outputs": []
    },
    {
      "cell_type": "markdown",
      "metadata": {
        "id": "ZblB430skJHW"
      },
      "source": [
        "## Hill Climb"
      ]
    },
    {
      "cell_type": "code",
      "metadata": {
        "colab": {
          "base_uri": "https://localhost:8080/"
        },
        "id": "fRKdGJSZkLLc",
        "outputId": "03f99f84-de64-4c5d-a958-174d6ee3b543"
      },
      "source": [
        "melhor_solucao, melhor_custo = mlrose.hill_climb(problema)\n",
        "melhor_solucao, melhor_custo"
      ],
      "execution_count": 11,
      "outputs": [
        {
          "output_type": "execute_result",
          "data": {
            "text/plain": [
              "(array([0, 1, 1, 1, 0, 1, 0, 1, 1, 1, 1, 1, 0, 1]), 20843.65)"
            ]
          },
          "metadata": {
            "tags": []
          },
          "execution_count": 11
        }
      ]
    },
    {
      "cell_type": "code",
      "metadata": {
        "colab": {
          "base_uri": "https://localhost:8080/"
        },
        "id": "HdEC4s2AkMbA",
        "outputId": "1c604e7a-c770-429b-8e51-1be81e1b0f6b"
      },
      "source": [
        "imprimir_solucao(melhor_solucao)"
      ],
      "execution_count": 12,
      "outputs": [
        {
          "output_type": "stream",
          "text": [
            "Celular - 2911.12\n",
            "TV 55 - 4346.99\n",
            "TV 50 - 3999.9\n",
            "Notebook A - 2499.9\n",
            "Microondas A - 308.66\n",
            "Microondas B - 429.9\n",
            "Microondas C - 299.29\n",
            "Refrigerador B - 849.0\n",
            "Refrigerador C - 1199.89\n",
            "Notebook C - 3999.0\n"
          ],
          "name": "stdout"
        }
      ]
    },
    {
      "cell_type": "markdown",
      "metadata": {
        "id": "kfGJsPrxkPjq"
      },
      "source": [
        "## Simulated Annealing"
      ]
    },
    {
      "cell_type": "code",
      "metadata": {
        "colab": {
          "base_uri": "https://localhost:8080/"
        },
        "id": "t1NHZ5X0kTDk",
        "outputId": "218b5883-4c65-4f20-c214-7181213acab7"
      },
      "source": [
        "melhor_solucao, melhor_custo = mlrose.simulated_annealing(problema)\n",
        "melhor_solucao, melhor_custo"
      ],
      "execution_count": 13,
      "outputs": [
        {
          "output_type": "stream",
          "text": [
            "/usr/local/lib/python3.7/dist-packages/mlrose/algorithms.py:311: RuntimeWarning: overflow encountered in exp\n",
            "  prob = np.exp(delta_e/temp)\n"
          ],
          "name": "stderr"
        },
        {
          "output_type": "execute_result",
          "data": {
            "text/plain": [
              "(array([0, 1, 1, 1, 1, 0, 1, 1, 1, 0, 0, 0, 1, 1]), 21194.37)"
            ]
          },
          "metadata": {
            "tags": []
          },
          "execution_count": 13
        }
      ]
    },
    {
      "cell_type": "code",
      "metadata": {
        "colab": {
          "base_uri": "https://localhost:8080/"
        },
        "id": "i6zmKXQckUG4",
        "outputId": "22803389-4478-473f-fc39-d5ca68313ce9"
      },
      "source": [
        "imprimir_solucao(melhor_solucao)"
      ],
      "execution_count": 14,
      "outputs": [
        {
          "output_type": "stream",
          "text": [
            "Celular - 2911.12\n",
            "TV 55 - 4346.99\n",
            "TV 50 - 3999.9\n",
            "TV 42 - 2999.0\n",
            "Ventilador - 199.9\n",
            "Microondas A - 308.66\n",
            "Microondas B - 429.9\n",
            "Notebook B - 1999.9\n",
            "Notebook C - 3999.0\n"
          ],
          "name": "stdout"
        }
      ]
    },
    {
      "cell_type": "markdown",
      "metadata": {
        "id": "vbl-4-oHkWo2"
      },
      "source": [
        "## Algoritmo Genético"
      ]
    },
    {
      "cell_type": "code",
      "metadata": {
        "colab": {
          "base_uri": "https://localhost:8080/"
        },
        "id": "iaddcl1VkZQS",
        "outputId": "674882b5-4eda-4d70-e442-e1928087ff47"
      },
      "source": [
        "melhor_solucao, melhor_custo = mlrose.genetic_alg(problema, pop_size=500, mutation_prob=0.2)\n",
        "melhor_solucao, melhor_custo"
      ],
      "execution_count": 15,
      "outputs": [
        {
          "output_type": "execute_result",
          "data": {
            "text/plain": [
              "(array([0, 1, 1, 1, 1, 1, 0, 1, 1, 1, 0, 1, 1, 1]), 24993.550000000003)"
            ]
          },
          "metadata": {
            "tags": []
          },
          "execution_count": 15
        }
      ]
    },
    {
      "cell_type": "code",
      "metadata": {
        "colab": {
          "base_uri": "https://localhost:8080/"
        },
        "id": "guZtQXgfkaTl",
        "outputId": "73341248-bfea-4811-ad83-03c4c7410188"
      },
      "source": [
        "imprimir_solucao(melhor_solucao)"
      ],
      "execution_count": 16,
      "outputs": [
        {
          "output_type": "stream",
          "text": [
            "Celular - 2911.12\n",
            "TV 55 - 4346.99\n",
            "TV 50 - 3999.9\n",
            "TV 42 - 2999.0\n",
            "Notebook A - 2499.9\n",
            "Microondas A - 308.66\n",
            "Microondas B - 429.9\n",
            "Microondas C - 299.29\n",
            "Refrigerador C - 1199.89\n",
            "Notebook B - 1999.9\n",
            "Notebook C - 3999.0\n"
          ],
          "name": "stdout"
        }
      ]
    }
  ]
}